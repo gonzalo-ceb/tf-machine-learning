{
 "cells": [
  {
   "cell_type": "code",
   "execution_count": 1,
   "id": "b7ac5b13-64f3-4c33-a0c6-c6345f9357fa",
   "metadata": {},
   "outputs": [],
   "source": [
    "# LIBRERÍAS\n",
    "import os\n",
    "import pandas as pd\n",
    "from shutil import copyfile\n",
    "from tqdm import tqdm"
   ]
  },
  {
   "cell_type": "markdown",
   "id": "db73d430-bcf4-4ba4-8512-368e2e148a54",
   "metadata": {},
   "source": [
    "## Definición de rutas y estructura"
   ]
  },
  {
   "cell_type": "code",
   "execution_count": 2,
   "id": "b2d96295-8900-4e07-a98f-be8d4a218a9a",
   "metadata": {},
   "outputs": [],
   "source": [
    "ruta_train_labels = \"../data/train_labels.csv\"\n",
    "ruta_val_labels = \"../data/val_labels.csv\"\n",
    "ruta_train_imagenes = \"../data/train_set\"\n",
    "ruta_val_imagenes = \"../data/val_set\"\n",
    "ruta_class_list = \"../data/class_list.txt\"\n",
    "ruta_test_imagenes = \"../data/test_set\"\n",
    "\n",
    "# CREAMOS LA ESTRUCTURA EN LA CARPETA DATA\n",
    "os.makedirs(\"../data/images/train\", exist_ok=True)\n",
    "os.makedirs(\"../data/images/val\", exist_ok=True)\n",
    "os.makedirs(\"../data/labels/train\", exist_ok=True)\n",
    "os.makedirs(\"../data/labels/val\", exist_ok=True)\n",
    "os.makedirs(\"../data/images/test\", exist_ok=True)\n",
    "os.makedirs(\"../data/labels/test\", exist_ok=True)\n",
    "\n",
    "# CONFIGURAMOS EL TAMAÑO DE LOS BOUNDING BOXES\n",
    "ancho_normalizado = 0.8  \n",
    "alto_normalizado = 0.8   "
   ]
  },
  {
   "cell_type": "code",
   "execution_count": 3,
   "id": "ea10b521-2b99-43e4-b084-87bc4e29a4f1",
   "metadata": {},
   "outputs": [],
   "source": [
    "train_labels = pd.read_csv(ruta_train_labels)\n",
    "val_labels = pd.read_csv(ruta_val_labels)"
   ]
  },
  {
   "cell_type": "markdown",
   "id": "c6f0b2de-6578-4a9b-8a8b-c93b109d6adc",
   "metadata": {},
   "source": [
    "## Procesamiento de datos en formato YOLO"
   ]
  },
  {
   "cell_type": "code",
   "execution_count": null,
   "id": "7eda87dc-e565-4726-928e-eec408e9cb06",
   "metadata": {},
   "outputs": [
    {
     "name": "stdout",
     "output_type": "stream",
     "text": [
      "Iniciando procesamiento de imágenes y etiquetas...\n"
     ]
    },
    {
     "name": "stderr",
     "output_type": "stream",
     "text": [
      "Procesando ../data/images/train:   9%|███▋                                     | 10649/118475 [01:09<11:15, 159.53it/s]"
     ]
    }
   ],
   "source": [
    "from shutil import copyfile\n",
    "import os\n",
    "from tqdm import tqdm\n",
    "\n",
    "# Verificar si las carpetas o el archivo ya existen\n",
    "if not os.path.exists(\"../data/images\") or not os.path.exists(\"../data/labels\") or not os.path.exists(\"../data/data.yaml\"):\n",
    "    print(\"Iniciando procesamiento de imágenes y etiquetas...\")\n",
    "\n",
    "    # Crear la estructura de carpetas si no existe\n",
    "    os.makedirs(\"../data/images/train\", exist_ok=True)\n",
    "    os.makedirs(\"../data/images/val\", exist_ok=True)\n",
    "    os.makedirs(\"../data/images/test\", exist_ok=True)\n",
    "    os.makedirs(\"../data/labels/train\", exist_ok=True)\n",
    "    os.makedirs(\"../data/labels/val\", exist_ok=True)\n",
    "\n",
    "    # FUNCIÓN PARA PROCESAR IMÁGENES Y GENERAR BOUNDING BOXES\n",
    "    def procesar_imagenes_y_labels(labels_df, ruta_imagenes, salida_imagenes, salida_labels):\n",
    "        for _, row in tqdm(labels_df.iterrows(), total=labels_df.shape[0], desc=f\"Procesando {salida_imagenes}\"):\n",
    "            # Copiar la imagen a la carpeta YOLO\n",
    "            imagen_origen = os.path.join(ruta_imagenes, row['img_name'])\n",
    "            imagen_destino = os.path.join(salida_imagenes, row['img_name'])\n",
    "            copyfile(imagen_origen, imagen_destino)\n",
    "\n",
    "            # Generar anotación YOLO\n",
    "            etiqueta = row['label']\n",
    "            x_centro, y_centro = 0.5, 0.5  # Centro de la imagen\n",
    "            bounding_box = f\"{etiqueta} {x_centro} {y_centro} {ancho_normalizado} {alto_normalizado}\\n\"\n",
    "\n",
    "            # Guardar el archivo .txt\n",
    "            ruta_etiqueta = os.path.join(salida_labels, row['img_name'].replace('.jpg', '.txt'))\n",
    "            with open(ruta_etiqueta, \"w\") as f:\n",
    "                f.write(bounding_box)\n",
    "\n",
    "    # PROCESAMOS EL CONJUNTO DE ENTRENAMIENTO\n",
    "    procesar_imagenes_y_labels(\n",
    "        train_labels,\n",
    "        ruta_train_imagenes,\n",
    "        \"../data/images/train\", \n",
    "        \"../data/labels/train\"\n",
    "    )\n",
    "\n",
    "    # PROCESAMOS EL CONJUNTO DE VALIDACIÓN\n",
    "    procesar_imagenes_y_labels(\n",
    "        val_labels,\n",
    "        ruta_val_imagenes,\n",
    "        \"../data/images/val\",   \n",
    "        \"../data/labels/val\"\n",
    "    )\n",
    "\n",
    "    # PROCESAR CONJUNTO DE TEST SIN LABELS\n",
    "    def procesar_imagenes_test(ruta_imagenes, salida_imagenes):\n",
    "        for imagen in tqdm(os.listdir(ruta_imagenes), desc=\"Procesando imágenes de prueba\"):\n",
    "            imagen_origen = os.path.join(ruta_imagenes, imagen)\n",
    "            imagen_destino = os.path.join(salida_imagenes, imagen)\n",
    "            copyfile(imagen_origen, imagen_destino)\n",
    "\n",
    "    # PROCESAR IMÁGENES DE TEST\n",
    "    procesar_imagenes_test(\n",
    "        \"../data/test_set\",     \n",
    "        \"../data/images/test\"\n",
    "    )\n",
    "\n",
    "    print(\"Procesamiento completado.\")\n",
    "else:\n",
    "    print(\"Las carpetas 'images', 'labels' o el archivo 'data.yaml' ya existen. No se procesará nuevamente.\")"
   ]
  },
  {
   "cell_type": "markdown",
   "id": "c2be1211-49e2-4ef4-a679-2d2c271b7ea7",
   "metadata": {},
   "source": [
    "## Procesamiento en conjunto de prueba"
   ]
  },
  {
   "cell_type": "code",
   "execution_count": null,
   "id": "c2b0589d-b484-4ddd-b764-45941f18c108",
   "metadata": {},
   "outputs": [],
   "source": [
    "# Función para encontrar el directorio raíz del proyecto\n",
    "def find_project_path(start_dir=None, project_name=\"tf-machine-learning\"):\n",
    "    if start_dir is None:\n",
    "        start_dir = os.getcwd()  # Usar el directorio de trabajo actual como punto de partida\n",
    "    for root, dirs, files in os.walk(start_dir, onerror=lambda e: None):\n",
    "        try:\n",
    "            if project_name in dirs:\n",
    "                return os.path.join(root, project_name)\n",
    "        except PermissionError:\n",
    "            print(f\"Permiso denegado en: {root}\")\n",
    "            continue\n",
    "    raise FileNotFoundError(f\"No se encontró el proyecto '{project_name}' comenzando en '{start_dir}'.\")\n",
    "\n",
    "# Detectar el directorio raíz del proyecto\n",
    "project_root = find_project_path(start_dir=\"/Users\", project_name=\"tf-machine-learning\")\n",
    "print(\"Directorio del proyecto configurado:\", project_root)"
   ]
  },
  {
   "cell_type": "markdown",
   "id": "d5b07490-4393-4366-9fa5-b40181375f8b",
   "metadata": {},
   "source": [
    "## Creación de data.yaml"
   ]
  },
  {
   "cell_type": "code",
   "execution_count": null,
   "id": "c5bdded0-ac05-4eb8-af71-f722c4b74972",
   "metadata": {},
   "outputs": [],
   "source": [
    "# CREAR RUTAS ABSOLUTAS\n",
    "train_path = os.path.join(project_root, \"data/images/train\")\n",
    "val_path = os.path.join(project_root, \"data/images/val\")\n",
    "yaml_path = os.path.join(project_root, \"data/data.yaml\")\n",
    "ruta_class_list = os.path.join(project_root, \"data/class_list.txt\")\n",
    "\n",
    "# Leer las clases desde el archivo class_list.txt\n",
    "with open(ruta_class_list, \"r\") as f:\n",
    "    clases = [line.strip().split(\" \", 1)[1] for line in f.readlines()]\n",
    "\n",
    "# Crear archivo data.yaml\n",
    "with open(yaml_path, \"w\") as f:\n",
    "    f.write(f\"train: {train_path}\\n\")\n",
    "    f.write(f\"val: {val_path}\\n\")\n",
    "    f.write(f\"nc: {len(clases)}\\n\")\n",
    "    f.write(f\"names: {clases}\\n\")\n",
    "\n",
    "print(f\"Archivo data.yaml generado en: {yaml_path}\")"
   ]
  },
  {
   "cell_type": "markdown",
   "id": "ad87d823-70ae-41c6-891e-d2631957bba4",
   "metadata": {},
   "source": [
    "## Limpieza de datos"
   ]
  },
  {
   "cell_type": "code",
   "execution_count": null,
   "id": "f79e4fb1-c738-4cec-9b07-e2357a61a3ca",
   "metadata": {},
   "outputs": [],
   "source": [
    "import shutil\n",
    "\n",
    "# ELIMINAMOS CARPETAS Y ARCHIVOS INNECESARIOS\n",
    "carpetas_a_eliminar = [\"../data/train_set\", \"../data/val_set\", \"../data/test_set\"]\n",
    "archivos_a_eliminar = [\"../data/train_labels.csv\", \"../data/val_labels.csv\", \"../data/test_set.zip\", \n",
    "                       \"../data/train_set.zip\", \"../data/val_set.zip\", \n",
    "                       \"../data/sample_submission.csv\", \"../data/ifood2019_sample_submission.csv\"]\n",
    "\n",
    "\n",
    "print(\"Inicio del proceso de eliminación de carpetas y archivos innecesarios...\")\n",
    "\n",
    "# Carpetas\n",
    "for carpeta in carpetas_a_eliminar:\n",
    "    if os.path.exists(carpeta):\n",
    "        shutil.rmtree(carpeta)\n",
    "        print(f\"Carpeta eliminada: {carpeta}\")\n",
    "    else:\n",
    "        print(f\"Carpeta no encontrada (ya eliminada o no existe): {carpeta}\")\n",
    "\n",
    "# Archivos\n",
    "for archivo in archivos_a_eliminar:\n",
    "    if os.path.exists(archivo):\n",
    "        os.remove(archivo)\n",
    "        print(f\"Archivo eliminado: {archivo}\")\n",
    "    else:\n",
    "        print(f\"Archivo no encontrado (ya eliminado o no existe): {archivo}\")\n",
    "\n",
    "print(\"Proceso de eliminación finalizado.\")"
   ]
  }
 ],
 "metadata": {
  "kernelspec": {
   "display_name": "Python 3 (ipykernel)",
   "language": "python",
   "name": "python3"
  },
  "language_info": {
   "codemirror_mode": {
    "name": "ipython",
    "version": 3
   },
   "file_extension": ".py",
   "mimetype": "text/x-python",
   "name": "python",
   "nbconvert_exporter": "python",
   "pygments_lexer": "ipython3",
   "version": "3.11.0"
  }
 },
 "nbformat": 4,
 "nbformat_minor": 5
}
