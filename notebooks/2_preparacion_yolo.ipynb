{
 "cells": [
  {
   "cell_type": "code",
   "execution_count": 1,
   "id": "b7ac5b13-64f3-4c33-a0c6-c6345f9357fa",
   "metadata": {},
   "outputs": [],
   "source": [
    "# LIBRERÍAS\n",
    "import os\n",
    "import pandas as pd\n",
    "from shutil import copyfile\n",
    "from tqdm import tqdm"
   ]
  },
  {
   "cell_type": "code",
   "execution_count": 2,
   "id": "b2d96295-8900-4e07-a98f-be8d4a218a9a",
   "metadata": {},
   "outputs": [],
   "source": [
    "ruta_train_labels = \"../data/train_labels.csv\"\n",
    "ruta_val_labels = \"../data/val_labels.csv\"\n",
    "ruta_train_imagenes = \"../data/train_set\"\n",
    "ruta_val_imagenes = \"../data/val_set\"\n",
    "ruta_class_list = \"../data/class_list.txt\"\n",
    "ruta_test_imagenes = \"../data/test_set\"\n",
    "\n",
    "# CREAMOS LA ESTRUCTURA EN LA CARPETA DATA\n",
    "os.makedirs(\"../data/images/train\", exist_ok=True)\n",
    "os.makedirs(\"../data/images/val\", exist_ok=True)\n",
    "os.makedirs(\"../data/labels/train\", exist_ok=True)\n",
    "os.makedirs(\"../data/labels/val\", exist_ok=True)\n",
    "os.makedirs(\"../data/images/test\", exist_ok=True)\n",
    "os.makedirs(\"../data/labels/test\", exist_ok=True)\n",
    "\n",
    "# CONFIGURAMOS EL TAMAÑO DE LOS BOUNDING BOXES\n",
    "ancho_normalizado = 0.8  \n",
    "alto_normalizado = 0.8   "
   ]
  },
  {
   "cell_type": "code",
   "execution_count": 3,
   "id": "ea10b521-2b99-43e4-b084-87bc4e29a4f1",
   "metadata": {},
   "outputs": [],
   "source": [
    "train_labels = pd.read_csv(ruta_train_labels)\n",
    "val_labels = pd.read_csv(ruta_val_labels)"
   ]
  },
  {
   "cell_type": "code",
   "execution_count": 4,
   "id": "7eda87dc-e565-4726-928e-eec408e9cb06",
   "metadata": {},
   "outputs": [
    {
     "name": "stderr",
     "output_type": "stream",
     "text": [
      "Procesando ../data/images/train: 100%|████████████████████████████████████████| 118475/118475 [13:36<00:00, 145.13it/s]\n",
      "Procesando ../data/images/val: 100%|████████████████████████████████████████████| 11994/11994 [01:31<00:00, 130.55it/s]\n",
      "Procesando imágenes de prueba: 100%|████████████████████████████████████████████| 28377/28377 [02:56<00:00, 160.82it/s]\n"
     ]
    }
   ],
   "source": [
    "from shutil import copyfile\n",
    "import os\n",
    "from tqdm import tqdm\n",
    "\n",
    "# FUNCIÓN PARA PROCESAR IMÁGENES Y GENERAR BOUNDINGG BOXES\n",
    "def procesar_imagenes_y_labels(labels_df, ruta_imagenes, salida_imagenes, salida_labels):\n",
    "    for _, row in tqdm(labels_df.iterrows(), total=labels_df.shape[0], desc=f\"Procesando {salida_imagenes}\"):\n",
    "        # Copiar la imagen a la carpeta YOLO\n",
    "        imagen_origen = os.path.join(ruta_imagenes, row['img_name'])\n",
    "        imagen_destino = os.path.join(salida_imagenes, row['img_name'])\n",
    "        copyfile(imagen_origen, imagen_destino)\n",
    "\n",
    "        # Generar anotación YOLO\n",
    "        etiqueta = row['label']\n",
    "        x_centro, y_centro = 0.5, 0.5  # Centro de la imagen\n",
    "        bounding_box = f\"{etiqueta} {x_centro} {y_centro} {ancho_normalizado} {alto_normalizado}\\n\"\n",
    "\n",
    "        # Guardar el archivo .txt\n",
    "        ruta_etiqueta = os.path.join(salida_labels, row['img_name'].replace('.jpg', '.txt'))\n",
    "        with open(ruta_etiqueta, \"w\") as f:\n",
    "            f.write(bounding_box)\n",
    "\n",
    "# PROCESAMOS EL CONJUNTO DE ENTRENAMIENTO\n",
    "procesar_imagenes_y_labels(\n",
    "    train_labels,\n",
    "    ruta_train_imagenes,\n",
    "    \"../data/images/train\", \n",
    "    \"../data/labels/train\"  \n",
    ")\n",
    "\n",
    "# PROCESAMOS EL CONJUNTO DE VALIDACIÓN\n",
    "procesar_imagenes_y_labels(\n",
    "    val_labels,\n",
    "    ruta_val_imagenes,\n",
    "    \"../data/images/val\",   \n",
    "    \"../data/labels/val\"   \n",
    ")\n",
    "\n",
    "# PROCESAR CONJUNTO DE TEST SIN LABELS\n",
    "def procesar_imagenes_test(ruta_imagenes, salida_imagenes):\n",
    "    for imagen in tqdm(os.listdir(ruta_imagenes), desc=\"Procesando imágenes de prueba\"):\n",
    "        imagen_origen = os.path.join(ruta_imagenes, imagen)\n",
    "        imagen_destino = os.path.join(salida_imagenes, imagen)\n",
    "        copyfile(imagen_origen, imagen_destino)\n",
    "\n",
    "# CARPETA DE IMÁGNES DE TEST\n",
    "os.makedirs(\"../data/images/test\", exist_ok=True)\n",
    "\n",
    "# PROCESAR IMÁGENES DE TEST\n",
    "procesar_imagenes_test(\n",
    "    \"../data/test_set\",     \n",
    "    \"../data/images/test\"    \n",
    ")"
   ]
  },
  {
   "cell_type": "code",
   "execution_count": 5,
   "id": "c5bdded0-ac05-4eb8-af71-f722c4b74972",
   "metadata": {},
   "outputs": [
    {
     "name": "stdout",
     "output_type": "stream",
     "text": [
      "Dataset preparado para YOLO.\n"
     ]
    }
   ],
   "source": [
    "# LEER CLASES \n",
    "with open(ruta_class_list, \"r\") as f:\n",
    "    clases = [line.strip().split(\" \", 1)[1] for line in f.readlines()]  \n",
    "\n",
    "# CREAMOS DATA.YAML\n",
    "with open(\"../data/data.yaml\", \"w\") as f:\n",
    "    f.write(f\"train: ../data/images/train\\n\")\n",
    "    f.write(f\"val: ../data/images/val\\n\")\n",
    "    f.write(f\"nc: {len(clases)}\\n\")  \n",
    "    f.write(f\"names: {clases}\\n\")  \n",
    "\n",
    "print(\"Dataset preparado para YOLO.\")"
   ]
  },
  {
   "cell_type": "code",
   "execution_count": 6,
   "id": "f79e4fb1-c738-4cec-9b07-e2357a61a3ca",
   "metadata": {},
   "outputs": [
    {
     "name": "stdout",
     "output_type": "stream",
     "text": [
      "Inicio del proceso de eliminación de carpetas y archivos innecesarios...\n",
      "Carpeta eliminada: ../data/train_set\n",
      "Carpeta eliminada: ../data/val_set\n",
      "Carpeta eliminada: ../data/test_set\n",
      "Archivo eliminado: ../data/train_labels.csv\n",
      "Archivo eliminado: ../data/val_labels.csv\n",
      "Archivo eliminado: ../data/test_set.zip\n",
      "Archivo eliminado: ../data/train_set.zip\n",
      "Archivo eliminado: ../data/val_set.zip\n",
      "Archivo eliminado: ../data/sample_submission.csv\n",
      "Archivo eliminado: ../data/ifood2019_sample_submission.csv\n",
      "Proceso de eliminación finalizado.\n"
     ]
    }
   ],
   "source": [
    "import shutil\n",
    "\n",
    "# ELIMINAMOS CARPETAS Y ARCHIVOS INNECESARIOS\n",
    "carpetas_a_eliminar = [\"../data/train_set\", \"../data/val_set\", \"../data/test_set\"]\n",
    "archivos_a_eliminar = [\"../data/train_labels.csv\", \"../data/val_labels.csv\", \"../data/test_set.zip\", \n",
    "                       \"../data/train_set.zip\", \"../data/val_set.zip\", \n",
    "                       \"../data/sample_submission.csv\", \"../data/ifood2019_sample_submission.csv\"]\n",
    "\n",
    "\n",
    "print(\"Inicio del proceso de eliminación de carpetas y archivos innecesarios...\")\n",
    "\n",
    "# Carpetas\n",
    "for carpeta in carpetas_a_eliminar:\n",
    "    if os.path.exists(carpeta):\n",
    "        shutil.rmtree(carpeta)\n",
    "        print(f\"Carpeta eliminada: {carpeta}\")\n",
    "    else:\n",
    "        print(f\"Carpeta no encontrada (ya eliminada o no existe): {carpeta}\")\n",
    "\n",
    "# Archivos\n",
    "for archivo in archivos_a_eliminar:\n",
    "    if os.path.exists(archivo):\n",
    "        os.remove(archivo)\n",
    "        print(f\"Archivo eliminado: {archivo}\")\n",
    "    else:\n",
    "        print(f\"Archivo no encontrado (ya eliminado o no existe): {archivo}\")\n",
    "\n",
    "print(\"Proceso de eliminación finalizado.\")"
   ]
  }
 ],
 "metadata": {
  "kernelspec": {
   "display_name": "Python 3 (ipykernel)",
   "language": "python",
   "name": "python3"
  },
  "language_info": {
   "codemirror_mode": {
    "name": "ipython",
    "version": 3
   },
   "file_extension": ".py",
   "mimetype": "text/x-python",
   "name": "python",
   "nbconvert_exporter": "python",
   "pygments_lexer": "ipython3",
   "version": "3.11.0"
  }
 },
 "nbformat": 4,
 "nbformat_minor": 5
}
