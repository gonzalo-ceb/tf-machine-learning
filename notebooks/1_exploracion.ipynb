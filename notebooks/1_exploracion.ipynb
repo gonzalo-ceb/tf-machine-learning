{
 "cells": [
  {
   "cell_type": "code",
   "execution_count": 1,
   "id": "ef6b2a3f-9639-4332-befa-e7778ca0bbf6",
   "metadata": {
    "editable": true,
    "slideshow": {
     "slide_type": ""
    },
    "tags": []
   },
   "outputs": [
    {
     "name": "stdout",
     "output_type": "stream",
     "text": [
      "Requirement already satisfied: pandas in c:\\users\\sandra\\appdata\\local\\programs\\python\\python311\\lib\\site-packages (2.2.3)\n",
      "Requirement already satisfied: tqdm in c:\\users\\sandra\\appdata\\local\\programs\\python\\python311\\lib\\site-packages (4.67.0)\n",
      "Requirement already satisfied: numpy>=1.23.2 in c:\\users\\sandra\\appdata\\local\\programs\\python\\python311\\lib\\site-packages (from pandas) (2.1.3)\n",
      "Requirement already satisfied: python-dateutil>=2.8.2 in c:\\users\\sandra\\appdata\\local\\programs\\python\\python311\\lib\\site-packages (from pandas) (2.9.0.post0)\n",
      "Requirement already satisfied: pytz>=2020.1 in c:\\users\\sandra\\appdata\\local\\programs\\python\\python311\\lib\\site-packages (from pandas) (2024.2)\n",
      "Requirement already satisfied: tzdata>=2022.7 in c:\\users\\sandra\\appdata\\local\\programs\\python\\python311\\lib\\site-packages (from pandas) (2024.2)\n",
      "Requirement already satisfied: colorama in c:\\users\\sandra\\appdata\\local\\programs\\python\\python311\\lib\\site-packages (from tqdm) (0.4.6)\n",
      "Requirement already satisfied: six>=1.5 in c:\\users\\sandra\\appdata\\local\\programs\\python\\python311\\lib\\site-packages (from python-dateutil>=2.8.2->pandas) (1.16.0)\n"
     ]
    }
   ],
   "source": [
    "!pip install pandas tqdm"
   ]
  },
  {
   "cell_type": "markdown",
   "id": "dbd31355-974b-4e0c-a371-1c1d9835db1c",
   "metadata": {},
   "source": [
    "## Importación de librerías y rutas"
   ]
  },
  {
   "cell_type": "code",
   "execution_count": 2,
   "id": "3c2c0114-f9e0-4579-94cb-67de0a0b8138",
   "metadata": {},
   "outputs": [],
   "source": [
    "# LIBRERÍAS\n",
    "import pandas as pd\n",
    "import os\n",
    "import zipfile\n",
    "from tqdm import tqdm\n",
    "import matplotlib.pyplot as plt\n",
    "from PIL import Image\n",
    "\n",
    "# RUTAS\n",
    "BASE_PATH = \"../data\"\n",
    "TRAIN_DIR = f\"{BASE_PATH}/train_set\"\n",
    "VAL_DIR = f\"{BASE_PATH}/val_set\"\n",
    "TEST_DIR = f\"{BASE_PATH}/test_set\"\n",
    "\n",
    "TRAIN_CSV = f\"{BASE_PATH}/train_labels.csv\"\n",
    "VAL_CSV = f\"{BASE_PATH}/val_labels.csv\""
   ]
  },
  {
   "cell_type": "markdown",
   "id": "42b969f3-153b-43bf-b100-f87beae290e8",
   "metadata": {},
   "source": [
    "## Identificación y descompresión de archivos ZIP"
   ]
  },
  {
   "cell_type": "code",
   "execution_count": 3,
   "id": "fbd48b8d-a7a4-4447-942e-e4ebb232d3b0",
   "metadata": {},
   "outputs": [
    {
     "name": "stdout",
     "output_type": "stream",
     "text": [
      "Descomprimiendo: ../data\\test_set.zip\n"
     ]
    },
    {
     "name": "stderr",
     "output_type": "stream",
     "text": [
      "Progreso descomprimiendo test_set.zip: 100%|██████████████████████████████| 28378/28378 [00:18<00:00, 1570.10archivo/s]\n"
     ]
    },
    {
     "name": "stdout",
     "output_type": "stream",
     "text": [
      "Archivo ../data\\test_set.zip descomprimido correctamente en ../data\\test_set.\n",
      "Descomprimiendo: ../data\\train_set.zip\n"
     ]
    },
    {
     "name": "stderr",
     "output_type": "stream",
     "text": [
      "Progreso descomprimiendo train_set.zip: 100%|███████████████████████████| 118476/118476 [01:22<00:00, 1428.59archivo/s]\n"
     ]
    },
    {
     "name": "stdout",
     "output_type": "stream",
     "text": [
      "Archivo ../data\\train_set.zip descomprimido correctamente en ../data\\train_set.\n",
      "Descomprimiendo: ../data\\val_set.zip\n"
     ]
    },
    {
     "name": "stderr",
     "output_type": "stream",
     "text": [
      "Progreso descomprimiendo val_set.zip: 100%|███████████████████████████████| 11995/11995 [00:08<00:00, 1485.05archivo/s]"
     ]
    },
    {
     "name": "stdout",
     "output_type": "stream",
     "text": [
      "Archivo ../data\\val_set.zip descomprimido correctamente en ../data\\val_set.\n"
     ]
    },
    {
     "name": "stderr",
     "output_type": "stream",
     "text": [
      "\n"
     ]
    }
   ],
   "source": [
    "# IDENTIFICAR .ZIP\n",
    "archivos_comprimidos = [os.path.join(BASE_PATH, archivo) for archivo in os.listdir(BASE_PATH) if archivo.endswith(\".zip\")]\n",
    "\n",
    "# DESCOMPRIMIR SI CARPETAS NO EXISTEN\n",
    "if archivos_comprimidos:\n",
    "    for archivo in archivos_comprimidos:\n",
    "        nombre_carpeta = os.path.splitext(os.path.basename(archivo))[0]  # Obtener el nombre base de la carpeta\n",
    "        carpeta_destino = os.path.join(BASE_PATH, nombre_carpeta)\n",
    "\n",
    "        if not os.path.exists(carpeta_destino):  # Verificar si ya está descomprimida\n",
    "            print(f\"Descomprimiendo: {archivo}\")\n",
    "            with zipfile.ZipFile(archivo, 'r') as zip_ref:\n",
    "                lista_archivos = zip_ref.namelist()\n",
    "                for file in tqdm(lista_archivos, desc=f\"Progreso descomprimiendo {os.path.basename(archivo)}\", unit=\"archivo\"):\n",
    "                    zip_ref.extract(file, BASE_PATH)\n",
    "            print(f\"Archivo {archivo} descomprimido correctamente en {carpeta_destino}.\")\n",
    "        else:\n",
    "            print(f\"La carpeta '{carpeta_destino}' ya existe. Omite la descompresión.\")\n",
    "else:\n",
    "    print(\"No se encontraron archivos ZIP en la carpeta de datos.\")"
   ]
  },
  {
   "cell_type": "markdown",
   "id": "a006e595-1622-4448-9d40-92f4addf12a1",
   "metadata": {},
   "source": [
    "## Lectura de archivos CSV"
   ]
  },
  {
   "cell_type": "code",
   "execution_count": 4,
   "id": "caa05407-fa7d-44a9-8754-b870c097b40f",
   "metadata": {},
   "outputs": [
    {
     "name": "stdout",
     "output_type": "stream",
     "text": [
      "Primeras filas del dataset de entrenamiento:\n",
      "           img_name  label\n",
      "0  train_101733.jpg    211\n",
      "1  train_101734.jpg    211\n",
      "2  train_101735.jpg    211\n",
      "3  train_101736.jpg    211\n",
      "4  train_101737.jpg    211\n",
      "Total de imágenes de entrenamiento: 118475\n",
      "Total de imágenes de validación: 11994\n"
     ]
    }
   ],
   "source": [
    "# LEER .CSV\n",
    "try:\n",
    "    train_df = pd.read_csv(TRAIN_CSV)\n",
    "    val_df = pd.read_csv(VAL_CSV)\n",
    "\n",
    "    print(f\"Primeras filas del dataset de entrenamiento:\")\n",
    "    print(train_df.head())\n",
    "    print(f\"Total de imágenes de entrenamiento: {len(train_df)}\")\n",
    "    print(f\"Total de imágenes de validación: {len(val_df)}\")\n",
    "except FileNotFoundError as e:\n",
    "    print(f\"Error al leer los CSV: {e}\")\n"
   ]
  },
  {
   "cell_type": "markdown",
   "id": "cec1f5c1-fb69-45f2-bdfe-3ad2a6fed2ab",
   "metadata": {},
   "source": [
    "## Creación de un diccionario de clases"
   ]
  },
  {
   "cell_type": "code",
   "execution_count": 5,
   "id": "9f8aa17c-f189-4606-9af2-f477f07e6264",
   "metadata": {},
   "outputs": [
    {
     "name": "stdout",
     "output_type": "stream",
     "text": [
      "Primeras filas del DataFrame de clases:\n",
      "Diccionario de clases:\n"
     ]
    },
    {
     "data": {
      "text/plain": [
       "{0: 'macaron',\n",
       " 1: 'beignet',\n",
       " 2: 'cruller',\n",
       " 3: 'cockle_food',\n",
       " 4: 'samosa',\n",
       " 5: 'tiramisu',\n",
       " 6: 'tostada',\n",
       " 7: 'moussaka',\n",
       " 8: 'dumpling',\n",
       " 9: 'sashimi',\n",
       " 10: 'knish',\n",
       " 11: 'croquette',\n",
       " 12: 'couscous',\n",
       " 13: 'porridge',\n",
       " 14: 'stuffed_cabbage',\n",
       " 15: 'seaweed_salad',\n",
       " 16: 'chow_mein',\n",
       " 17: 'rigatoni',\n",
       " 18: 'beef_tartare',\n",
       " 19: 'cannoli',\n",
       " 20: 'foie_gras',\n",
       " 21: 'cupcake',\n",
       " 22: 'osso_buco',\n",
       " 23: 'pad_thai',\n",
       " 24: 'poutine',\n",
       " 25: 'ramen',\n",
       " 26: 'pulled_pork_sandwich',\n",
       " 27: 'bibimbap',\n",
       " 28: 'chicken_kiev',\n",
       " 29: 'apple_pie',\n",
       " 30: 'risotto',\n",
       " 31: 'fruitcake',\n",
       " 32: 'chop_suey',\n",
       " 33: 'haggis',\n",
       " 34: 'scrambled_eggs',\n",
       " 35: 'frittata',\n",
       " 36: 'scampi',\n",
       " 37: 'sushi',\n",
       " 38: 'orzo',\n",
       " 39: 'fritter',\n",
       " 40: 'nacho',\n",
       " 41: 'beef_stroganoff',\n",
       " 42: 'beef_wellington',\n",
       " 43: 'spring_roll',\n",
       " 44: 'savarin',\n",
       " 45: 'crayfish_food',\n",
       " 46: 'souffle',\n",
       " 47: 'adobo',\n",
       " 48: 'streusel',\n",
       " 49: 'deviled_egg',\n",
       " 50: 'escargot',\n",
       " 51: 'club_sandwich',\n",
       " 52: 'carrot_cake',\n",
       " 53: 'falafel',\n",
       " 54: 'farfalle',\n",
       " 55: 'terrine',\n",
       " 56: 'poached_egg',\n",
       " 57: 'gnocchi',\n",
       " 58: 'bubble_and_squeak',\n",
       " 59: 'egg_roll',\n",
       " 60: 'caprese_salad',\n",
       " 61: 'sauerkraut',\n",
       " 62: 'creme_brulee',\n",
       " 63: 'pavlova',\n",
       " 64: 'fondue',\n",
       " 65: 'scallop',\n",
       " 66: 'jambalaya',\n",
       " 67: 'tempura',\n",
       " 68: 'chocolate_cake',\n",
       " 69: 'potpie',\n",
       " 70: 'spaghetti_bolognese',\n",
       " 71: 'sukiyaki',\n",
       " 72: 'applesauce',\n",
       " 73: 'baklava',\n",
       " 74: 'salisbury_steak',\n",
       " 75: 'linguine',\n",
       " 76: 'edamame',\n",
       " 77: 'coq_au_vin',\n",
       " 78: 'tamale',\n",
       " 79: 'macaroni_and_cheese',\n",
       " 80: 'kedgeree',\n",
       " 81: 'garlic_bread',\n",
       " 82: 'beet_salad',\n",
       " 83: 'steak_tartare',\n",
       " 84: 'vermicelli',\n",
       " 85: 'pate',\n",
       " 86: 'pancake',\n",
       " 87: 'tetrazzini',\n",
       " 88: 'onion_rings',\n",
       " 89: 'red_velvet_cake',\n",
       " 90: 'compote',\n",
       " 91: 'lobster_food',\n",
       " 92: 'chicken_curry',\n",
       " 93: 'chicken_wing',\n",
       " 94: 'caesar_salad',\n",
       " 95: 'succotash',\n",
       " 96: 'hummus',\n",
       " 97: 'fish_and_chips',\n",
       " 98: 'lasagna',\n",
       " 99: 'lutefisk',\n",
       " 100: 'sloppy_joe',\n",
       " 101: 'gingerbread',\n",
       " 102: 'crab_cake',\n",
       " 103: 'sauerbraten',\n",
       " 104: 'peking_duck',\n",
       " 105: 'guacamole',\n",
       " 106: 'ham_sandwich',\n",
       " 107: 'crumpet',\n",
       " 108: 'taco',\n",
       " 109: 'strawberry_shortcake',\n",
       " 110: 'clam_chowder',\n",
       " 111: 'cottage_pie',\n",
       " 112: 'croque_madame',\n",
       " 113: 'french_onion_soup',\n",
       " 114: 'beef_carpaccio',\n",
       " 115: 'torte',\n",
       " 116: 'poi',\n",
       " 117: 'crab_food',\n",
       " 118: 'bacon_and_eggs',\n",
       " 119: 'coffee_cake',\n",
       " 120: 'custard',\n",
       " 121: 'syllabub',\n",
       " 122: 'pork_chop',\n",
       " 123: 'fried_rice',\n",
       " 124: 'boiled_egg',\n",
       " 125: 'galantine',\n",
       " 126: 'brisket',\n",
       " 127: 'reuben',\n",
       " 128: 'schnitzel',\n",
       " 129: 'ambrosia_food',\n",
       " 130: 'gyoza',\n",
       " 131: 'jerky',\n",
       " 132: 'ravioli',\n",
       " 133: 'fried_calamari',\n",
       " 134: 'spaghetti_carbonara',\n",
       " 135: 'miso_soup',\n",
       " 136: 'frozen_yogurt',\n",
       " 137: 'wonton',\n",
       " 138: 'panna_cotta',\n",
       " 139: 'french_toast',\n",
       " 140: 'enchilada',\n",
       " 141: 'ceviche',\n",
       " 142: 'fettuccine',\n",
       " 143: 'chili',\n",
       " 144: 'flan',\n",
       " 145: 'kabob',\n",
       " 146: 'sponge_cake',\n",
       " 147: 'casserole',\n",
       " 148: 'paella',\n",
       " 149: 'blancmange',\n",
       " 150: 'bruschetta',\n",
       " 151: 'tortellini',\n",
       " 152: 'grilled_salmon',\n",
       " 153: 'french_fries',\n",
       " 154: 'shrimp_and_grits',\n",
       " 155: 'churro',\n",
       " 156: 'donut',\n",
       " 157: 'meat_loaf_food',\n",
       " 158: 'meatball',\n",
       " 159: 'scrapple',\n",
       " 160: 'strudel',\n",
       " 161: 'coconut_cake',\n",
       " 162: 'marble_cake',\n",
       " 163: 'filet_mignon',\n",
       " 164: 'hamburger',\n",
       " 165: 'fried_egg',\n",
       " 166: 'tuna_tartare',\n",
       " 167: 'penne',\n",
       " 168: 'eggs_benedict',\n",
       " 169: 'bread_pudding',\n",
       " 170: 'takoyaki',\n",
       " 171: 'tenderloin',\n",
       " 172: 'chocolate_mousse',\n",
       " 173: 'baked_alaska',\n",
       " 174: 'hot_dog',\n",
       " 175: 'confit',\n",
       " 176: 'ham_and_eggs',\n",
       " 177: 'biryani',\n",
       " 178: 'greek_salad',\n",
       " 179: 'huevos_rancheros',\n",
       " 180: 'tagliatelle',\n",
       " 181: 'stuffed_peppers',\n",
       " 182: 'cannelloni',\n",
       " 183: 'pizza',\n",
       " 184: 'sausage_roll',\n",
       " 185: 'chicken_quesadilla',\n",
       " 186: 'hot_and_sour_soup',\n",
       " 187: 'prime_rib',\n",
       " 188: 'cheesecake',\n",
       " 189: 'limpet_food',\n",
       " 190: 'ziti',\n",
       " 191: 'mussel',\n",
       " 192: 'manicotti',\n",
       " 193: 'ice_cream',\n",
       " 194: 'waffle',\n",
       " 195: 'oyster',\n",
       " 196: 'omelette',\n",
       " 197: 'clam_food',\n",
       " 198: 'burrito',\n",
       " 199: 'roulade',\n",
       " 200: 'lobster_bisque',\n",
       " 201: 'grilled_cheese_sandwich',\n",
       " 202: 'gyro',\n",
       " 203: 'pound_cake',\n",
       " 204: 'pho',\n",
       " 205: 'lobster_roll_sandwich',\n",
       " 206: 'baby_back_rib',\n",
       " 207: 'tapenade',\n",
       " 208: 'pepper_steak',\n",
       " 209: 'welsh_rarebit',\n",
       " 210: 'pilaf',\n",
       " 211: 'dolmas',\n",
       " 212: 'coquilles_saint_jacques',\n",
       " 213: 'veal_cordon_bleu',\n",
       " 214: 'shirred_egg',\n",
       " 215: 'barbecued_wing',\n",
       " 216: 'lobster_thermidor',\n",
       " 217: 'steak_au_poivre',\n",
       " 218: 'huitre',\n",
       " 219: 'chiffon_cake',\n",
       " 220: 'profiterole',\n",
       " 221: 'toad_in_the_hole',\n",
       " 222: 'chicken_marengo',\n",
       " 223: 'victoria_sandwich',\n",
       " 224: 'tamale_pie',\n",
       " 225: 'boston_cream_pie',\n",
       " 226: 'fish_stick',\n",
       " 227: 'crumb_cake',\n",
       " 228: 'chicken_provencale',\n",
       " 229: 'vol_au_vent',\n",
       " 230: 'entrecote',\n",
       " 231: 'carbonnade_flamande',\n",
       " 232: 'bacon_lettuce_tomato_sandwich',\n",
       " 233: 'scotch_egg',\n",
       " 234: 'pirogi',\n",
       " 235: 'peach_melba',\n",
       " 236: 'upside_down_cake',\n",
       " 237: 'applesauce_cake',\n",
       " 238: 'rugulah',\n",
       " 239: 'rock_cake',\n",
       " 240: 'barbecued_spareribs',\n",
       " 241: 'beef_bourguignonne',\n",
       " 242: 'rissole',\n",
       " 243: 'mostaccioli',\n",
       " 244: 'apple_turnover',\n",
       " 245: 'matzo_ball',\n",
       " 246: 'chicken_cordon_bleu',\n",
       " 247: 'eccles_cake',\n",
       " 248: 'moo_goo_gai_pan',\n",
       " 249: 'buffalo_wing',\n",
       " 250: 'stuffed_tomato'}"
      ]
     },
     "execution_count": 5,
     "metadata": {},
     "output_type": "execute_result"
    }
   ],
   "source": [
    "# ASIGNAMOS LOS NOMBRES DE LAS CLASES A LOS NUMÉROS\n",
    "clases_df_path = f\"{BASE_PATH}/class_list.txt\"\n",
    "\n",
    "clases_df = pd.read_csv(clases_df_path, sep=\" \", header=None, names=[\"etiqueta\", \"nombre_clase\"])\n",
    "clases_df['etiqueta'] = clases_df['etiqueta'].astype(int)\n",
    "\n",
    "# Creamso diccionario\n",
    "etiqueta_a_clase = dict(zip(clases_df['etiqueta'], clases_df['nombre_clase']))\n",
    "    \n",
    "print(\"Primeras filas del DataFrame de clases:\")\n",
    "clases_df.head()\n",
    "print(\"Diccionario de clases:\")\n",
    "etiqueta_a_clase"
   ]
  },
  {
   "cell_type": "markdown",
   "id": "3a5e2de0-76ad-4861-af6a-f2cf49935d18",
   "metadata": {},
   "source": [
    "## Visualización de clases más frecuentes"
   ]
  },
  {
   "cell_type": "code",
   "execution_count": 6,
   "id": "5aad9f45-3731-44e1-bb7b-0afe823d9ec4",
   "metadata": {},
   "outputs": [
    {
     "data": {
      "image/png": "[encoded data removed]",
      "text/plain": [
       "<Figure size 1000x600 with 1 Axes>"
      ]
     },
     "metadata": {},
     "output_type": "display_data"
    }
   ],
   "source": [
    "# CLASES MÁS FRECUENTES\n",
    "top_15_clases = train_df['label'].map(etiqueta_a_clase).value_counts().head(15)\n",
    "\n",
    "plt.figure(figsize=(10, 6))\n",
    "top_15_clases.plot(kind='bar', color='skyblue')\n",
    "plt.title(\"Top 15 Clases Más Frecuentes en el Conjunto de Entrenamiento\")\n",
    "plt.xlabel(\"Clase\")\n",
    "plt.ylabel(\"Frecuencia\")\n",
    "plt.xticks(rotation=45)\n",
    "plt.show()"
   ]
  }
 ],
 "metadata": {
  "kernelspec": {
   "display_name": "Python 3 (ipykernel)",
   "language": "python",
   "name": "python3"
  },
  "language_info": {
   "codemirror_mode": {
    "name": "ipython",
    "version": 3
   },
   "file_extension": ".py",
   "mimetype": "text/x-python",
   "name": "python",
   "nbconvert_exporter": "python",
   "pygments_lexer": "ipython3",
   "version": "3.11.10"
  }
 },
 "nbformat": 4,
 "nbformat_minor": 5
}
