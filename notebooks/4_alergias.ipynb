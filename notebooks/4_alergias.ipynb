{
 "cells": [
  {
   "cell_type": "code",
   "execution_count": 1,
   "id": "0bf3fd67-0595-43e4-8fc0-8f7e5d57e1ab",
   "metadata": {},
   "outputs": [
    {
     "name": "stdout",
     "output_type": "stream",
     "text": [
      "Detecciones del modelo YOLO: ['tiramisu', 'pizza', 'sushi', 'lobster', 'hamburger']\n",
      "Alérgenos detectados: {'tiramisu': ['lactose', 'gluten'], 'pizza': ['gluten', 'lactose'], 'sushi': ['fish'], 'lobster': ['shellfish'], 'hamburger': ['gluten']}\n"
     ]
    }
   ],
   "source": [
    "mapeo_alergias = {\n",
    "    'fried_egg': ['egg'],\n",
    "    'omelette': ['egg'],\n",
    "    'eggs_benedict': ['egg'],\n",
    "    'lobster': ['shellfish'],\n",
    "    'shrimp': ['shellfish'],\n",
    "    'clam': ['shellfish'],\n",
    "    'crab': ['shellfish'],\n",
    "    'cheesecake': ['lactose'],\n",
    "    'ice_cream': ['lactose'],\n",
    "    'macaroni_and_cheese': ['lactose'],\n",
    "    'peanut_butter': ['peanut'],\n",
    "    'pad_thai': ['peanut'],\n",
    "    'chicken_curry': [],\n",
    "    'tiramisu': ['lactose', 'gluten'],\n",
    "    'pizza': ['gluten', 'lactose'],\n",
    "    'hamburger': ['gluten'],\n",
    "    'sushi': ['fish'],\n",
    "    'tempura': ['shellfish'],\n",
    "    'baklava': ['nuts'],\n",
    "    'greek_salad': ['lactose'],\n",
    "    'paella': ['shellfish'],\n",
    "}\n",
    "\n",
    "def deteccion_alergias(yolo_detections, mapeo_alergias):\n",
    "    resultados_alergias = {}\n",
    "    for detection in yolo_detections:\n",
    "        if detection in mapeo_alergias:\n",
    "            resultados_alergias[detection] = mapeo_alergias[detection]\n",
    "        else:\n",
    "            resultados_alergias[detection] = [] \n",
    "    return resultados_alergias\n",
    "\n",
    "# EJEMPLO\n",
    "if __name__ == \"__main__\":\n",
    "    yolo_detections = ['tiramisu', 'pizza', 'sushi', 'lobster', 'hamburger']\n",
    "    resultados_alergias = deteccion_alergias(yolo_detections, mapeo_alergias)\n",
    "    print(\"Detecciones del modelo YOLO:\", yolo_detections)\n",
    "    print(\"Alérgenos detectados:\", resultados_alergias)\n"
   ]
  },
  {
   "cell_type": "code",
   "execution_count": null,
   "id": "5e89fd2d-bad9-4a8b-9803-c642b1ca3b89",
   "metadata": {},
   "outputs": [],
   "source": []
  }
 ],
 "metadata": {
  "kernelspec": {
   "display_name": "Python 3 (ipykernel)",
   "language": "python",
   "name": "python3"
  },
  "language_info": {
   "codemirror_mode": {
    "name": "ipython",
    "version": 3
   },
   "file_extension": ".py",
   "mimetype": "text/x-python",
   "name": "python",
   "nbconvert_exporter": "python",
   "pygments_lexer": "ipython3",
   "version": "3.11.10"
  }
 },
 "nbformat": 4,
 "nbformat_minor": 5
}
